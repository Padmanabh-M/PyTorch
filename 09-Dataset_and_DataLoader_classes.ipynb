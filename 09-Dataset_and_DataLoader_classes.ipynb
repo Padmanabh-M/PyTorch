{
 "cells": [
  {
   "cell_type": "markdown",
   "id": "afdea57f",
   "metadata": {},
   "source": [
    "### For gradient calculation, iterating for a number of epochs over whole dataset is very time consuming"
   ]
  },
  {
   "cell_type": "markdown",
   "id": "5301ac17",
   "metadata": {},
   "source": [
    "---"
   ]
  },
  {
   "cell_type": "markdown",
   "id": "6bdf720c",
   "metadata": {},
   "source": [
    "### A better way for large datasets is to divide the samples into smaller batches "
   ]
  },
  {
   "cell_type": "markdown",
   "id": "70fd4a96",
   "metadata": {},
   "source": [
    "---"
   ]
  },
  {
   "cell_type": "markdown",
   "id": "ab73c4e4",
   "metadata": {},
   "source": [
    "### So if we use the built in Dataset and DataLoader classes, PyTorch will do the batch calculation and iterations for us..."
   ]
  },
  {
   "cell_type": "markdown",
   "id": "b4de1062",
   "metadata": {},
   "source": [
    "---"
   ]
  },
  {
   "cell_type": "markdown",
   "id": "135df8e4",
   "metadata": {},
   "source": [
    "### Basic terms..."
   ]
  },
  {
   "cell_type": "markdown",
   "id": "56cbadca",
   "metadata": {},
   "source": [
    "#### Epoch: 1 forward and backward pass of ALL the training samples\n",
    "\n",
    "#### batch_size: number of training samples in one forward and backward pass\n",
    "\n",
    "#### number of iterations = Number of passes, each pass using [batch_size] number of samples\n",
    "\n",
    "#### e.g 100 samples, batch_size = 20 --> 100/20 = 5 iterations for 1 epoch"
   ]
  },
  {
   "cell_type": "markdown",
   "id": "60d52165",
   "metadata": {},
   "source": [
    "**Torchvision** is a library for Computer Vision that goes hand in hand with PyTorch. It has utilities for efficient Image and Video transformations, some commonly used pre-trained models, and some datasets."
   ]
  },
  {
   "cell_type": "code",
   "execution_count": 1,
   "id": "e3783bc4",
   "metadata": {},
   "outputs": [],
   "source": [
    "import torch\n",
    "import torchvision\n",
    "from torch.utils.data import Dataset, DataLoader\n",
    "import numpy as np\n",
    "import math"
   ]
  },
  {
   "cell_type": "markdown",
   "id": "f2864abf",
   "metadata": {},
   "source": [
    "# *Dataloader* \n",
    "\n",
    "**Data loader** -  Combines a dataset and a sampler, and **provides an iterable** over the given dataset. The DataLoader supports both map-style and iterable-style datasets with single- or multi-process loading, customizing loading order and optional automatic batching (collation) and memory pinning."
   ]
  },
  {
   "cell_type": "code",
   "execution_count": 29,
   "id": "adfea83d",
   "metadata": {},
   "outputs": [
    {
     "name": "stdout",
     "output_type": "stream",
     "text": [
      "tensor([[1.3480e+01, 1.6700e+00, 2.6400e+00, 2.2500e+01, 8.9000e+01, 2.6000e+00,\n",
      "         1.1000e+00, 5.2000e-01, 2.2900e+00, 1.1750e+01, 5.7000e-01, 1.7800e+00,\n",
      "         6.2000e+02],\n",
      "        [1.3740e+01, 1.6700e+00, 2.2500e+00, 1.6400e+01, 1.1800e+02, 2.6000e+00,\n",
      "         2.9000e+00, 2.1000e-01, 1.6200e+00, 5.8500e+00, 9.2000e-01, 3.2000e+00,\n",
      "         1.0600e+03],\n",
      "        [1.3050e+01, 5.8000e+00, 2.1300e+00, 2.1500e+01, 8.6000e+01, 2.6200e+00,\n",
      "         2.6500e+00, 3.0000e-01, 2.0100e+00, 2.6000e+00, 7.3000e-01, 3.1000e+00,\n",
      "         3.8000e+02],\n",
      "        [1.3050e+01, 2.0500e+00, 3.2200e+00, 2.5000e+01, 1.2400e+02, 2.6300e+00,\n",
      "         2.6800e+00, 4.7000e-01, 1.9200e+00, 3.5800e+00, 1.1300e+00, 3.2000e+00,\n",
      "         8.3000e+02]]) tensor([[3.],\n",
      "        [1.],\n",
      "        [2.],\n",
      "        [1.]])\n"
     ]
    }
   ],
   "source": [
    "class WineDataset(Dataset):\n",
    "    \n",
    "    def __init__(self):\n",
    "        # Data loading\n",
    "        xy = np.loadtxt('wine.csv', delimiter = \",\", dtype = np.float32, skiprows = 1)\n",
    "        self.x = torch.from_numpy(xy[:, 1:])\n",
    "        self.y = torch.from_numpy(xy[:, [0]])\n",
    "        self.n_samples = xy.shape[0]\n",
    "        \n",
    "    def __getitem__(self, index):\n",
    "        # Dataset[0]\n",
    "        return self.x[index], self.y[index]\n",
    "        \n",
    "    def __len__(self):\n",
    "        # len(dataset)\n",
    "        return self.n_samples\n",
    "    \n",
    "    \n",
    "dataset = WineDataset()\n",
    "\n",
    "# print(dataset)\n",
    "# print(dataset[0])\n",
    "\n",
    "# Dataloader object...\n",
    "# dataloader = DataLoader(dataset = dataset, batch_size = 4, shuffle = True, num_workers = 2)\n",
    "dataloader = DataLoader(dataset = dataset, batch_size = 4, shuffle = True)\n",
    "# print(dataloader)\n",
    "# # num_workers might make loading faster because its using multiple sub-processes...its not working for some reason...\n",
    "\n",
    "# Converting to an iterator...\n",
    "data_iter = iter(dataloader)\n",
    "# print(data_iter)\n",
    "\n",
    "data = data_iter.next()\n",
    "\n",
    "# print(data[0].shape)\n",
    "# torch.Size([4, 13])\n",
    "\n",
    "\n",
    "features, labels = data\n",
    "\n",
    "print(features, labels)  # Wil print 4 samples and their classes as batch_size is set to 4...."
   ]
  },
  {
   "cell_type": "markdown",
   "id": "a96758c0",
   "metadata": {},
   "source": [
    "---"
   ]
  },
  {
   "cell_type": "markdown",
   "id": "ad237dae",
   "metadata": {},
   "source": [
    "#### Iterate over the whole dataloader"
   ]
  },
  {
   "cell_type": "code",
   "execution_count": 30,
   "id": "5342856c",
   "metadata": {},
   "outputs": [
    {
     "name": "stdout",
     "output_type": "stream",
     "text": [
      "178 45\n"
     ]
    }
   ],
   "source": [
    "class WineDataset(Dataset):\n",
    "    \n",
    "    def __init__(self):\n",
    "        # Data loading\n",
    "        xy = np.loadtxt('wine.csv', delimiter = \",\", dtype = np.float32, skiprows = 1)\n",
    "        self.x = torch.from_numpy(xy[:, 1:])\n",
    "        self.y = torch.from_numpy(xy[:, [0]])\n",
    "        self.n_samples = xy.shape[0]\n",
    "        \n",
    "    def __getitem__(self, index):\n",
    "        # Dataset[0]\n",
    "        return self.x[index], self.y[index]\n",
    "        \n",
    "    def __len__(self):\n",
    "        # len(dataset)\n",
    "        return self.n_samples\n",
    "    \n",
    "    \n",
    "dataset = WineDataset()\n",
    "\n",
    "# print(dataset)\n",
    "# print(dataset[0])\n",
    "\n",
    "# Dataloader object...\n",
    "# dataloader = DataLoader(dataset = dataset, batch_size = 4, shuffle = True, num_workers = 2)\n",
    "dataloader = DataLoader(dataset = dataset, batch_size = 4, shuffle = True)\n",
    "\n",
    "\n",
    "# Training loop...\n",
    "num_epochs = 2\n",
    "\n",
    "total_samples = len(dataset)\n",
    "\n",
    "n_iterations = math.ceil(total_samples/4)\n",
    "\n",
    "print(total_samples, n_iterations)"
   ]
  },
  {
   "cell_type": "code",
   "execution_count": 52,
   "id": "38bb4b2f",
   "metadata": {},
   "outputs": [
    {
     "name": "stdout",
     "output_type": "stream",
     "text": [
      "epoch 1/2, step 5/45, inputs torch.Size([4, 13])\n",
      "epoch 1/2, step 10/45, inputs torch.Size([4, 13])\n",
      "epoch 1/2, step 15/45, inputs torch.Size([4, 13])\n",
      "epoch 1/2, step 20/45, inputs torch.Size([4, 13])\n",
      "epoch 1/2, step 25/45, inputs torch.Size([4, 13])\n",
      "epoch 1/2, step 30/45, inputs torch.Size([4, 13])\n",
      "epoch 1/2, step 35/45, inputs torch.Size([4, 13])\n",
      "epoch 1/2, step 40/45, inputs torch.Size([4, 13])\n",
      "epoch 1/2, step 45/45, inputs torch.Size([2, 13])\n",
      "epoch 2/2, step 5/45, inputs torch.Size([4, 13])\n",
      "epoch 2/2, step 10/45, inputs torch.Size([4, 13])\n",
      "epoch 2/2, step 15/45, inputs torch.Size([4, 13])\n",
      "epoch 2/2, step 20/45, inputs torch.Size([4, 13])\n",
      "epoch 2/2, step 25/45, inputs torch.Size([4, 13])\n",
      "epoch 2/2, step 30/45, inputs torch.Size([4, 13])\n",
      "epoch 2/2, step 35/45, inputs torch.Size([4, 13])\n",
      "epoch 2/2, step 40/45, inputs torch.Size([4, 13])\n",
      "epoch 2/2, step 45/45, inputs torch.Size([2, 13])\n"
     ]
    }
   ],
   "source": [
    "for epoch in range(num_epochs):\n",
    "    for i, (inputs, labels) in enumerate(dataloader): # i is the iteration number, inputs the features, labels the classes...\n",
    "        #forward, backward, update\n",
    "        if (i + 1) % 5 == 0:\n",
    "            print(f'epoch {epoch+1}/{num_epochs}, step {i+1}/{n_iterations}, inputs {inputs.shape}')"
   ]
  },
  {
   "cell_type": "markdown",
   "id": "7859b5ce",
   "metadata": {},
   "source": [
    "---"
   ]
  }
 ],
 "metadata": {
  "kernelspec": {
   "display_name": "Python 3 (ipykernel)",
   "language": "python",
   "name": "python3"
  },
  "language_info": {
   "codemirror_mode": {
    "name": "ipython",
    "version": 3
   },
   "file_extension": ".py",
   "mimetype": "text/x-python",
   "name": "python",
   "nbconvert_exporter": "python",
   "pygments_lexer": "ipython3",
   "version": "3.9.6"
  }
 },
 "nbformat": 4,
 "nbformat_minor": 5
}

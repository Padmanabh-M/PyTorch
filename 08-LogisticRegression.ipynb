{
 "cells": [
  {
   "cell_type": "markdown",
   "id": "da634715",
   "metadata": {},
   "source": [
    "### General training pipeline in pytorch:\n",
    "1) Design model (input, output size, forward pass )\n",
    "\n",
    "2) Construct loss and optimizer\n",
    "\n",
    "3) Training loop:\n",
    "\n",
    "    - Forward pass: Compute prediction\n",
    "    \n",
    "    - Backward pass: Gradients\n",
    "    \n",
    "    - Update weights"
   ]
  },
  {
   "cell_type": "code",
   "execution_count": 4,
   "id": "20157100",
   "metadata": {},
   "outputs": [],
   "source": [
    "import torch\n",
    "import torch.nn as nn\n",
    "import numpy as np\n",
    "from sklearn import datasets\n",
    "from sklearn.preprocessing import StandardScaler\n",
    "from sklearn.model_selection import train_test_split"
   ]
  },
  {
   "cell_type": "markdown",
   "id": "d15c8b44",
   "metadata": {},
   "source": [
    "## 0) Prepare data"
   ]
  },
  {
   "cell_type": "code",
   "execution_count": 5,
   "id": "ac154f5d",
   "metadata": {},
   "outputs": [
    {
     "name": "stdout",
     "output_type": "stream",
     "text": [
      "569 30\n"
     ]
    }
   ],
   "source": [
    "bc = datasets.load_breast_cancer()\n",
    "\n",
    "X, y = bc.data, bc.target\n",
    "\n",
    "n_samples, n_features = X.shape\n",
    "\n",
    "print(n_samples, n_features)\n",
    "\n",
    "X_train, X_test, y_train, y_test = train_test_split(X, y, test_size = 0.2, random_state = 1234)"
   ]
  },
  {
   "cell_type": "markdown",
   "id": "07be8b3e",
   "metadata": {},
   "source": [
    "### Scale"
   ]
  },
  {
   "cell_type": "code",
   "execution_count": 6,
   "id": "4ba8d63c",
   "metadata": {},
   "outputs": [],
   "source": [
    "sc = StandardScaler()\n",
    "\n",
    "X_train = sc.fit_transform(X_train)\n",
    "X_test = sc.transform(X_test)\n",
    "\n",
    "X_train = torch.from_numpy(X_train.astype(np.float32))\n",
    "X_test = torch.from_numpy(X_test.astype(np.float32))\n",
    "y_train = torch.from_numpy(y_train.astype(np.float32))\n",
    "y_test = torch.from_numpy(y_test.astype(np.float32))\n",
    "\n",
    "# reshaping tensor...\n",
    "y_train = y_train.view(y_train.shape[0], 1)\n",
    "y_test = y_test.view(y_test.shape[0], 1)"
   ]
  },
  {
   "cell_type": "markdown",
   "id": "7d6af30d",
   "metadata": {},
   "source": [
    "---"
   ]
  },
  {
   "cell_type": "markdown",
   "id": "4ffedd60",
   "metadata": {},
   "source": [
    "## 1) Model"
   ]
  },
  {
   "cell_type": "markdown",
   "id": "37f8ca00",
   "metadata": {},
   "source": [
    "### Logistic regression\n",
    "\n",
    "f = wx + b, .....with a sigmoid function at the end"
   ]
  },
  {
   "cell_type": "code",
   "execution_count": 7,
   "id": "c393c220",
   "metadata": {},
   "outputs": [],
   "source": [
    "class LogisticRegression(nn.Module):\n",
    "    def __init__(self, n_input_features):\n",
    "        super(LogisticRegression, self).__init__()\n",
    "        self.linear = nn.Linear(n_input_features, 1)  # 1 is the output size...\n",
    "        \n",
    "        \n",
    "    def forward(self, x):\n",
    "        y_predicted = torch.sigmoid(self.linear(x))   # will return a value between 0 and 1, above 0.05 , its 1...\n",
    "        return y_predicted\n",
    "    \n",
    "\n",
    "model = LogisticRegression(n_features)"
   ]
  },
  {
   "cell_type": "markdown",
   "id": "5720bd82",
   "metadata": {},
   "source": [
    "---"
   ]
  },
  {
   "cell_type": "markdown",
   "id": "0ccbfa8e",
   "metadata": {},
   "source": [
    "## 2) Loss and Optimizer"
   ]
  },
  {
   "cell_type": "code",
   "execution_count": 8,
   "id": "cdb5df48",
   "metadata": {},
   "outputs": [],
   "source": [
    "learning_rate = 0.01\n",
    "criterion = nn.BCELoss()  # Binary cross entropy loss...\n",
    "optimizer = torch.optim.SGD(model.parameters(), lr = learning_rate)"
   ]
  },
  {
   "cell_type": "markdown",
   "id": "2e1ee446",
   "metadata": {},
   "source": [
    "---"
   ]
  },
  {
   "cell_type": "markdown",
   "id": "c485b7ad",
   "metadata": {},
   "source": [
    "## 3) Training Loop"
   ]
  },
  {
   "cell_type": "code",
   "execution_count": 10,
   "id": "c4bc46e0",
   "metadata": {},
   "outputs": [
    {
     "name": "stdout",
     "output_type": "stream",
     "text": [
      "epoch: 10, loss = 0.5094\n",
      "epoch: 20, loss = 0.4399\n",
      "epoch: 30, loss = 0.3912\n",
      "epoch: 40, loss = 0.3552\n",
      "epoch: 50, loss = 0.3274\n",
      "epoch: 60, loss = 0.3052\n",
      "epoch: 70, loss = 0.2870\n",
      "epoch: 80, loss = 0.2718\n",
      "epoch: 90, loss = 0.2588\n",
      "epoch: 100, loss = 0.2475\n",
      "Accuracy = 0.8684\n"
     ]
    }
   ],
   "source": [
    "num_epochs = 100\n",
    "\n",
    "for epoch in range(num_epochs):\n",
    "    \n",
    "    # Forward pass and loss\n",
    "    y_predicted = model(X_train)\n",
    "    loss = criterion(y_predicted, y_train)\n",
    "    \n",
    "    # Backward pass\n",
    "    loss.backward()\n",
    "    \n",
    "    # Updates\n",
    "    optimizer.step()\n",
    "    \n",
    "    optimizer.zero_grad()\n",
    "    \n",
    "    if (epoch + 1) % 10 == 0:\n",
    "        print(f'epoch: {epoch+1}, loss = {loss.item():.4f}')\n",
    "        \n",
    "# Evaluation.....this should not be a part of the computational graph...\n",
    "with torch.no_grad():\n",
    "    y_predicted = model(X_test)\n",
    "    \n",
    "    y_predicted_cls = y_predicted.round()\n",
    "    \n",
    "    acc = y_predicted_cls.eq(y_test).sum() / float(y_test.shape[0])\n",
    "    \n",
    "    print(f'Accuracy = {acc:.4f}')"
   ]
  },
  {
   "cell_type": "markdown",
   "id": "263d9b39",
   "metadata": {},
   "source": [
    "---"
   ]
  }
 ],
 "metadata": {
  "kernelspec": {
   "display_name": "Python 3 (ipykernel)",
   "language": "python",
   "name": "python3"
  },
  "language_info": {
   "codemirror_mode": {
    "name": "ipython",
    "version": 3
   },
   "file_extension": ".py",
   "mimetype": "text/x-python",
   "name": "python",
   "nbconvert_exporter": "python",
   "pygments_lexer": "ipython3",
   "version": "3.9.6"
  }
 },
 "nbformat": 4,
 "nbformat_minor": 5
}

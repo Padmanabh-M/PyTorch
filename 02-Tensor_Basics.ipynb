{
 "cells": [
  {
   "cell_type": "markdown",
   "id": "76cc379a",
   "metadata": {},
   "source": [
    "# Tensor Basics\n",
    "\n",
    "Tensors are multidimensional arrays with a uniform data type\n",
    "\n",
    "Tensors are kinda like np.arrays\n",
    "\n",
    "All tensors are immutable like Python numbers and strings: you can never update the contents of a tensor, only create a new one.\n",
    "\n",
    "# The biggest difference between a numpy array and a PyTorch Tensor is that a PyTorch Tensor can run on either CPU or GPU."
   ]
  },
  {
   "cell_type": "code",
   "execution_count": 32,
   "id": "5e517096",
   "metadata": {},
   "outputs": [],
   "source": [
    "import torch"
   ]
  },
  {
   "cell_type": "code",
   "execution_count": 33,
   "id": "94b0c584",
   "metadata": {},
   "outputs": [
    {
     "data": {
      "text/plain": [
       "True"
      ]
     },
     "execution_count": 33,
     "metadata": {},
     "output_type": "execute_result"
    }
   ],
   "source": [
    "torch.cuda.is_available()"
   ]
  },
  {
   "cell_type": "code",
   "execution_count": 34,
   "id": "9397259e",
   "metadata": {},
   "outputs": [
    {
     "name": "stdout",
     "output_type": "stream",
     "text": [
      "tensor([2.2278e+23, 7.9086e-41, 2.2276e+23])\n"
     ]
    }
   ],
   "source": [
    "x = torch.empty(3)\n",
    "print(x) # vector with 3 elements.....One axis"
   ]
  },
  {
   "cell_type": "code",
   "execution_count": 35,
   "id": "7f429635",
   "metadata": {},
   "outputs": [
    {
     "name": "stdout",
     "output_type": "stream",
     "text": [
      "tensor([[0, 0, 0],\n",
      "        [0, 0, 0]], device='cuda:0', dtype=torch.int32)\n"
     ]
    }
   ],
   "source": [
    "x = torch.empty(2,3, dtype = torch.int32, device = 'cuda')\n",
    "print(x) # vector with 6 elements.....two axis"
   ]
  },
  {
   "cell_type": "code",
   "execution_count": 36,
   "id": "0b9923c7",
   "metadata": {},
   "outputs": [
    {
     "name": "stdout",
     "output_type": "stream",
     "text": [
      "tensor([[ 875979361, 1647601200,  809066804],\n",
      "        [1664104761, 1684431922,  811950643]], dtype=torch.int32)\n"
     ]
    }
   ],
   "source": [
    "x = torch.empty(2,3, dtype = torch.int32)\n",
    "print(x) # vector with 6 elements.....two axis"
   ]
  },
  {
   "cell_type": "code",
   "execution_count": 37,
   "id": "2b9cbe10",
   "metadata": {},
   "outputs": [
    {
     "data": {
      "text/plain": [
       "tensor([[0.9893, 0.7110],\n",
       "        [0.4602, 0.7828]])"
      ]
     },
     "execution_count": 37,
     "metadata": {},
     "output_type": "execute_result"
    }
   ],
   "source": [
    "# random numbers\n",
    "x = torch.rand(2,2)\n",
    "x"
   ]
  },
  {
   "cell_type": "code",
   "execution_count": 39,
   "id": "b09e941e",
   "metadata": {},
   "outputs": [
    {
     "data": {
      "text/plain": [
       "tensor([[0., 0.],\n",
       "        [0., 0.]])"
      ]
     },
     "execution_count": 39,
     "metadata": {},
     "output_type": "execute_result"
    }
   ],
   "source": [
    "# Zeroes\n",
    "x = torch.zeros(2,2)\n",
    "x"
   ]
  },
  {
   "cell_type": "code",
   "execution_count": 40,
   "id": "85248f9a",
   "metadata": {},
   "outputs": [
    {
     "data": {
      "text/plain": [
       "tensor([[1., 1.],\n",
       "        [1., 1.]])"
      ]
     },
     "execution_count": 40,
     "metadata": {},
     "output_type": "execute_result"
    }
   ],
   "source": [
    "x = torch.ones(2,2)\n",
    "x"
   ]
  },
  {
   "cell_type": "code",
   "execution_count": 42,
   "id": "b3d697b0",
   "metadata": {},
   "outputs": [
    {
     "data": {
      "text/plain": [
       "torch.float32"
      ]
     },
     "execution_count": 42,
     "metadata": {},
     "output_type": "execute_result"
    }
   ],
   "source": [
    "x.dtype"
   ]
  },
  {
   "cell_type": "code",
   "execution_count": 48,
   "id": "b7b17a22",
   "metadata": {},
   "outputs": [
    {
     "name": "stdout",
     "output_type": "stream",
     "text": [
      "torch.int32\n"
     ]
    },
    {
     "data": {
      "text/plain": [
       "tensor([[1, 1],\n",
       "        [1, 1]], dtype=torch.int32)"
      ]
     },
     "execution_count": 48,
     "metadata": {},
     "output_type": "execute_result"
    }
   ],
   "source": [
    "x = torch.ones(2,2, dtype=torch.int)\n",
    "print(x.dtype)\n",
    "x"
   ]
  },
  {
   "cell_type": "code",
   "execution_count": 49,
   "id": "a6c59ed7",
   "metadata": {},
   "outputs": [
    {
     "data": {
      "text/plain": [
       "torch.Size([2, 2])"
      ]
     },
     "execution_count": 49,
     "metadata": {},
     "output_type": "execute_result"
    }
   ],
   "source": [
    "# check size/shape\n",
    "x.size()"
   ]
  },
  {
   "cell_type": "code",
   "execution_count": 51,
   "id": "2e0d32c1",
   "metadata": {},
   "outputs": [
    {
     "data": {
      "text/plain": [
       "tensor([1., 2., 3., 4., 5.], dtype=torch.float64)"
      ]
     },
     "execution_count": 51,
     "metadata": {},
     "output_type": "execute_result"
    }
   ],
   "source": [
    "# Making tensors out of lists...\n",
    "x = torch.tensor([1,2,3,4,5], dtype=torch.double)\n",
    "x"
   ]
  },
  {
   "cell_type": "code",
   "execution_count": 54,
   "id": "71bbdbb1",
   "metadata": {},
   "outputs": [
    {
     "name": "stdout",
     "output_type": "stream",
     "text": [
      "tensor([[0.1314, 0.2526],\n",
      "        [0.7642, 0.5139]])\n",
      "tensor([[0.3748, 0.7794],\n",
      "        [0.5591, 0.8655]])\n"
     ]
    },
    {
     "data": {
      "text/plain": [
       "tensor([[0.5061, 1.0320],\n",
       "        [1.3233, 1.3794]])"
      ]
     },
     "execution_count": 54,
     "metadata": {},
     "output_type": "execute_result"
    }
   ],
   "source": [
    "# Addition\n",
    "x = torch.rand(2,2)\n",
    "y = torch.rand(2,2)\n",
    "print(x)\n",
    "print(y)\n",
    "z = x + y\n",
    "z"
   ]
  },
  {
   "cell_type": "code",
   "execution_count": 55,
   "id": "0833a6f4",
   "metadata": {},
   "outputs": [
    {
     "name": "stdout",
     "output_type": "stream",
     "text": [
      "tensor([[0.8846, 0.2285],\n",
      "        [0.9029, 0.0698]])\n",
      "tensor([[0.5240, 0.3187],\n",
      "        [0.1058, 0.8288]])\n"
     ]
    },
    {
     "data": {
      "text/plain": [
       "tensor([[1.4086, 0.5472],\n",
       "        [1.0087, 0.8986]])"
      ]
     },
     "execution_count": 55,
     "metadata": {},
     "output_type": "execute_result"
    }
   ],
   "source": [
    "# Addition\n",
    "x = torch.rand(2,2)\n",
    "y = torch.rand(2,2)\n",
    "print(x)\n",
    "print(y)\n",
    "z = torch.add(x,y)\n",
    "z"
   ]
  },
  {
   "cell_type": "code",
   "execution_count": 57,
   "id": "5278b949",
   "metadata": {},
   "outputs": [
    {
     "name": "stdout",
     "output_type": "stream",
     "text": [
      "tensor([[0.5683, 0.3111],\n",
      "        [0.2257, 0.5844]])\n",
      "tensor([[0.9750, 0.9691],\n",
      "        [0.6552, 0.0774]])\n"
     ]
    },
    {
     "data": {
      "text/plain": [
       "tensor([[1.5433, 1.2802],\n",
       "        [0.8809, 0.6618]])"
      ]
     },
     "execution_count": 57,
     "metadata": {},
     "output_type": "execute_result"
    }
   ],
   "source": [
    "# Addition\n",
    "x = torch.rand(2,2)\n",
    "y = torch.rand(2,2)\n",
    "print(x)\n",
    "print(y)\n",
    "y.add_(x)    # The underscore refers to inplace function...\n",
    "y"
   ]
  },
  {
   "cell_type": "code",
   "execution_count": 59,
   "id": "42eaaff8",
   "metadata": {},
   "outputs": [
    {
     "name": "stdout",
     "output_type": "stream",
     "text": [
      "tensor([[0.3195, 0.9320, 0.0961],\n",
      "        [0.8054, 0.8461, 0.2258],\n",
      "        [0.5114, 0.7730, 0.4803],\n",
      "        [0.1763, 0.8383, 0.9299],\n",
      "        [0.8535, 0.3212, 0.1133]])\n",
      "tensor([0.3195, 0.8054, 0.5114, 0.1763, 0.8535])\n"
     ]
    }
   ],
   "source": [
    "# Slicing\n",
    "x = torch.rand(5,3)\n",
    "print(x)\n",
    "print(x[:,0])"
   ]
  },
  {
   "cell_type": "code",
   "execution_count": 61,
   "id": "7a3fe754",
   "metadata": {},
   "outputs": [
    {
     "name": "stdout",
     "output_type": "stream",
     "text": [
      "tensor([[0.9790, 0.7702, 0.7494, 0.3355],\n",
      "        [0.2507, 0.1933, 0.2376, 0.2772],\n",
      "        [0.3099, 0.1891, 0.1159, 0.8538],\n",
      "        [0.7941, 0.5828, 0.2631, 0.4710]])\n",
      "tensor([0.9790, 0.7702, 0.7494, 0.3355, 0.2507, 0.1933, 0.2376, 0.2772, 0.3099,\n",
      "        0.1891, 0.1159, 0.8538, 0.7941, 0.5828, 0.2631, 0.4710])\n"
     ]
    }
   ],
   "source": [
    "# Reshaping tensors...\n",
    "x = torch.rand(4,4)\n",
    "print(x)\n",
    "\n",
    "y = x.view(16) # One dimension....(Flatten)\n",
    "print(y)"
   ]
  },
  {
   "cell_type": "code",
   "execution_count": 63,
   "id": "89562b94",
   "metadata": {},
   "outputs": [
    {
     "name": "stdout",
     "output_type": "stream",
     "text": [
      "tensor([[0.2876, 0.8867, 0.7140, 0.5048],\n",
      "        [0.6770, 0.2695, 0.0191, 0.5608],\n",
      "        [0.6963, 0.5055, 0.1262, 0.2259],\n",
      "        [0.8143, 0.7827, 0.4633, 0.0235]])\n",
      "tensor([[0.2876, 0.8867, 0.7140, 0.5048, 0.6770, 0.2695, 0.0191, 0.5608],\n",
      "        [0.6963, 0.5055, 0.1262, 0.2259, 0.8143, 0.7827, 0.4633, 0.0235]])\n",
      "torch.Size([2, 8])\n"
     ]
    }
   ],
   "source": [
    "# Reshaping tensors... automatic determination of size based on one shape value...\n",
    "x = torch.rand(4,4)\n",
    "print(x)\n",
    "\n",
    "y = x.view(-1, 8) # One dimension....(Flatten)\n",
    "print(y)\n",
    "print(y.size())"
   ]
  },
  {
   "cell_type": "code",
   "execution_count": 68,
   "id": "ce84f700",
   "metadata": {},
   "outputs": [
    {
     "name": "stdout",
     "output_type": "stream",
     "text": [
      "tensor([1., 1., 1., 1., 1.])\n",
      "[1. 1. 1. 1. 1.]\n",
      "<class 'numpy.ndarray'>\n",
      "\n",
      "\n",
      "--------------------\n",
      "tensor([2., 2., 2., 2., 2.])\n",
      "[2. 2. 2. 2. 2.]\n"
     ]
    }
   ],
   "source": [
    "# Converting numpy to torch tensor and vice-versa...\n",
    "import numpy as np\n",
    "a = torch.ones(5)\n",
    "print(a)\n",
    "b = a.numpy()\n",
    "print(b)\n",
    "print(type(b))\n",
    "print('\\n\\n--------------------')\n",
    "\n",
    "# Sidenote - If the tensor is on the CPU and not the GPU, then both objects (a and b) will share the \n",
    "# same memory location....so you change one, you also change the other...\n",
    "\n",
    "\n",
    "a.add_(1)\n",
    "print(a)\n",
    "print(b)"
   ]
  },
  {
   "cell_type": "code",
   "execution_count": 70,
   "id": "8b954af6",
   "metadata": {},
   "outputs": [
    {
     "name": "stdout",
     "output_type": "stream",
     "text": [
      "[1. 1. 1. 1. 1.]\n",
      "tensor([1., 1., 1., 1., 1.], dtype=torch.float64)\n",
      "<class 'torch.Tensor'>\n",
      "\n",
      "\n",
      "--------------------\n",
      "[2. 2. 2. 2. 2.]\n",
      "tensor([2., 2., 2., 2., 2.], dtype=torch.float64)\n"
     ]
    }
   ],
   "source": [
    "# Converting torch tensor to numpy...\n",
    "import numpy as np\n",
    "a = np.ones(5)\n",
    "print(a)\n",
    "b = torch.from_numpy(a)\n",
    "print(b)\n",
    "print(type(b))\n",
    "\n",
    "print('\\n\\n--------------------')\n",
    "\n",
    "\n",
    "a += 1\n",
    "print(a)\n",
    "print(b)"
   ]
  },
  {
   "cell_type": "code",
   "execution_count": 83,
   "id": "78d01302",
   "metadata": {},
   "outputs": [
    {
     "name": "stdout",
     "output_type": "stream",
     "text": [
      "tensor([2., 2., 2., 2., 2.], device='cuda:0')\n"
     ]
    }
   ],
   "source": [
    "if torch.cuda.is_available():\n",
    "    device = torch.device(\"cuda\")\n",
    "    x = torch.ones(5, device = device)\n",
    "    y = torch.ones(5)\n",
    "    y = y.to(device)\n",
    "    z = x + y\n",
    "    print(z)\n",
    "    \n",
    "    \n",
    "# you cannot convert a GPU tensor back to numpy "
   ]
  }
 ],
 "metadata": {
  "kernelspec": {
   "display_name": "Python 3 (ipykernel)",
   "language": "python",
   "name": "python3"
  },
  "language_info": {
   "codemirror_mode": {
    "name": "ipython",
    "version": 3
   },
   "file_extension": ".py",
   "mimetype": "text/x-python",
   "name": "python",
   "nbconvert_exporter": "python",
   "pygments_lexer": "ipython3",
   "version": "3.9.6"
  }
 },
 "nbformat": 4,
 "nbformat_minor": 5
}

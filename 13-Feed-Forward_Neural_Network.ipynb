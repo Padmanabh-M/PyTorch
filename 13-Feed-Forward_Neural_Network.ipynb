{
 "cells": [
  {
   "cell_type": "markdown",
   "id": "5ac6e56a",
   "metadata": {},
   "source": [
    "### MNIST\n",
    "### DataLoader, Transformations\n",
    "### Multilayer Neural Net, activation functions\n",
    "### Loss and optimizer\n",
    "### Training loop (batch training)\n",
    "### Model evaluation\n",
    "### GPU support"
   ]
  },
  {
   "cell_type": "code",
   "execution_count": 1,
   "id": "bd8c2f03",
   "metadata": {},
   "outputs": [],
   "source": [
    "import torch\n",
    "import torch.nn as nn\n",
    "import torchvision # for the datasets\n",
    "import torchvision.transforms as transforms\n",
    "import matplotlib.pyplot as plt"
   ]
  },
  {
   "cell_type": "markdown",
   "id": "b1f8f018",
   "metadata": {},
   "source": [
    "### Device config"
   ]
  },
  {
   "cell_type": "code",
   "execution_count": 2,
   "id": "3d4643c7",
   "metadata": {},
   "outputs": [],
   "source": [
    "device = torch.device('cuda' if torch.cuda.is_available() else 'cpu')"
   ]
  },
  {
   "cell_type": "markdown",
   "id": "1d3ebe77",
   "metadata": {},
   "source": [
    "### Defining hyperparamters"
   ]
  },
  {
   "cell_type": "code",
   "execution_count": 3,
   "id": "980ded4a",
   "metadata": {},
   "outputs": [],
   "source": [
    "input_size = 784   # 28x28    .....will flatten this array to a 1d tensor...\n",
    "hidden_size = 100\n",
    "num_classes = 10\n",
    "num_epochs = 2\n",
    "batch_size = 100\n",
    "learning_rate = 0.001"
   ]
  },
  {
   "cell_type": "markdown",
   "id": "44aff240",
   "metadata": {},
   "source": [
    "### MNIST Dataset, DataLoader and transformations"
   ]
  },
  {
   "cell_type": "code",
   "execution_count": 4,
   "id": "cf4e8980",
   "metadata": {},
   "outputs": [],
   "source": [
    "train_dataset = torchvision.datasets.MNIST(root='./data', train = True, transform=transforms.ToTensor(), download = True)\n",
    "\n",
    "test_dataset = torchvision.datasets.MNIST(root='./data', train = False, transform=transforms.ToTensor())\n",
    "\n",
    "train_loader = torch.utils.data.DataLoader(dataset=train_dataset, batch_size=batch_size, shuffle = True)\n",
    "\n",
    "test_loader = torch.utils.data.DataLoader(dataset=test_dataset, batch_size=batch_size, shuffle = False)"
   ]
  },
  {
   "cell_type": "markdown",
   "id": "20cf6589",
   "metadata": {},
   "source": [
    "### Example...."
   ]
  },
  {
   "cell_type": "code",
   "execution_count": 5,
   "id": "f6f8593e",
   "metadata": {},
   "outputs": [
    {
     "name": "stdout",
     "output_type": "stream",
     "text": [
      "torch.Size([100, 1, 28, 28]) \n",
      " torch.Size([100])\n"
     ]
    }
   ],
   "source": [
    "example = iter(train_loader)\n",
    "samples, labels = example.next()\n",
    "print(samples.shape,'\\n', labels.shape)"
   ]
  },
  {
   "cell_type": "code",
   "execution_count": 6,
   "id": "862fe6dc",
   "metadata": {},
   "outputs": [
    {
     "name": "stdout",
     "output_type": "stream",
     "text": [
      "torch.Size([1, 28, 28])\n",
      "torch.Size([28, 28])\n"
     ]
    }
   ],
   "source": [
    "print(samples[99].shape)\n",
    "print(samples[99][0].shape)"
   ]
  },
  {
   "cell_type": "code",
   "execution_count": 7,
   "id": "41d7c9ab",
   "metadata": {},
   "outputs": [
    {
     "name": "stdout",
     "output_type": "stream",
     "text": [
      "tensor(9)\n"
     ]
    }
   ],
   "source": [
    "print(labels[99])"
   ]
  },
  {
   "cell_type": "code",
   "execution_count": 8,
   "id": "00194466",
   "metadata": {},
   "outputs": [
    {
     "data": {
      "image/png": "[encoded data removed]",
      "text/plain": [
       "<Figure size 432x288 with 6 Axes>"
      ]
     },
     "metadata": {
      "needs_background": "light"
     },
     "output_type": "display_data"
    }
   ],
   "source": [
    "for i in range(6):\n",
    "    plt.subplot(2, 3, i+1) # 2 rows and 3 columns and index\n",
    "    plt.imshow(samples[i][0], cmap = 'inferno')\n",
    "    \n",
    "# plt.show()"
   ]
  },
  {
   "cell_type": "markdown",
   "id": "b0db8cbc",
   "metadata": {},
   "source": [
    "---"
   ]
  },
  {
   "cell_type": "markdown",
   "id": "3569ddca",
   "metadata": {},
   "source": [
    "### Multilayer Neural Net and activation functions"
   ]
  },
  {
   "cell_type": "code",
   "execution_count": 9,
   "id": "80968ddf",
   "metadata": {},
   "outputs": [],
   "source": [
    "class NeuralNet(nn.Module):\n",
    "    def __init__(self, input_size, hidden_size, num_classes): # The output size is the number of classes...\n",
    "        super(NeuralNet, self).__init__()\n",
    "        self.l1 = nn.Linear(input_size, hidden_size)\n",
    "        self.relu = nn.ReLU()\n",
    "        self.l2 = nn.Linear(hidden_size, num_classes)\n",
    "        \n",
    "    def forward(self, x):\n",
    "        out = self.l1(x)\n",
    "        out = self.relu(out)\n",
    "        out = self.l2(out)\n",
    "        \n",
    "        # we dont apply the softmax here....because we'll be using the cross-entropy loss and it will apply it for us....\n",
    "        \n",
    "        return out\n",
    "    \n",
    "# P.S - send the model to the device\n",
    "model = NeuralNet(input_size, hidden_size, num_classes).to(device)"
   ]
  },
  {
   "cell_type": "markdown",
   "id": "8fc5f35b",
   "metadata": {},
   "source": [
    "### SIDENOTE - The model and the data goes to the device..."
   ]
  },
  {
   "cell_type": "markdown",
   "id": "6df78cb8",
   "metadata": {},
   "source": [
    "### The loss and the optimizer"
   ]
  },
  {
   "cell_type": "code",
   "execution_count": 10,
   "id": "a053a215",
   "metadata": {},
   "outputs": [],
   "source": [
    "criterion = nn.CrossEntropyLoss()\n",
    "\n",
    "optimizer = torch.optim.Adam(model.parameters(), lr = learning_rate) # model parameters has weights and biases....initiated after calling optimizer.step()..."
   ]
  },
  {
   "cell_type": "markdown",
   "id": "7d396400",
   "metadata": {},
   "source": [
    "### Training loop..."
   ]
  },
  {
   "cell_type": "code",
   "execution_count": 11,
   "id": "44f06b60",
   "metadata": {
    "scrolled": true
   },
   "outputs": [
    {
     "name": "stdout",
     "output_type": "stream",
     "text": [
      "epoch 1 / 2, step 100/600, loss = 0.4535\n",
      "epoch 1 / 2, step 200/600, loss = 0.4514\n",
      "epoch 1 / 2, step 300/600, loss = 0.1574\n",
      "epoch 1 / 2, step 400/600, loss = 0.2934\n",
      "epoch 1 / 2, step 500/600, loss = 0.2426\n",
      "epoch 1 / 2, step 600/600, loss = 0.1668\n",
      "epoch 2 / 2, step 100/600, loss = 0.2255\n",
      "epoch 2 / 2, step 200/600, loss = 0.2046\n",
      "epoch 2 / 2, step 300/600, loss = 0.2333\n",
      "epoch 2 / 2, step 400/600, loss = 0.1140\n",
      "epoch 2 / 2, step 500/600, loss = 0.2434\n",
      "epoch 2 / 2, step 600/600, loss = 0.1188\n"
     ]
    }
   ],
   "source": [
    "n_total_steps = len(train_loader)\n",
    "\n",
    "for epoch in range(num_epochs):\n",
    "    for i, (images, labels) in enumerate(train_loader): # i is the index, and the tuple has the data...\n",
    "        # Reshaping the images .......[100, 1, 28, 28] -----> [100, 784]\n",
    "        images = images.reshape(-1, 28*28).to(device)\n",
    "        labels = labels.to(device)\n",
    "\n",
    "\n",
    "        #forward\n",
    "        outputs = model(images)\n",
    "        loss = criterion(outputs, labels)\n",
    "\n",
    "        #backward\n",
    "        loss.backward()\n",
    "        optimizer.step()\n",
    "        optimizer.zero_grad()\n",
    "\n",
    "        if (i+1) % 100 == 0:\n",
    "            print(f'epoch {epoch+1} / {num_epochs}, step {i+1}/{n_total_steps}, loss = {loss.item():.4f}')"
   ]
  },
  {
   "cell_type": "markdown",
   "id": "8c87f70d",
   "metadata": {},
   "source": [
    "### Test"
   ]
  },
  {
   "cell_type": "code",
   "execution_count": 12,
   "id": "178df964",
   "metadata": {},
   "outputs": [
    {
     "name": "stdout",
     "output_type": "stream",
     "text": [
      "accuracy = 95.49\n"
     ]
    }
   ],
   "source": [
    "with torch.no_grad():\n",
    "    n_correct = 0\n",
    "    n_samples = 0\n",
    "    for images, labels in test_loader:\n",
    "        images = images.reshape(-1, 28*28).to(device)\n",
    "        labels = labels.to(device)\n",
    "        outputs = model(images)\n",
    "        \n",
    "        # torch.max will return the value and the index...\n",
    "        _, predictions = torch.max(outputs, 1)\n",
    "        n_samples += labels.shape[0]\n",
    "        # batchwise increment\n",
    "        n_correct += (predictions == labels).sum().item()\n",
    "        \n",
    "    acc = 100.0 * n_correct / n_samples\n",
    "    \n",
    "    print(f'accuracy = {acc}')"
   ]
  },
  {
   "cell_type": "markdown",
   "id": "e571248d",
   "metadata": {},
   "source": [
    "---"
   ]
  }
 ],
 "metadata": {
  "kernelspec": {
   "display_name": "Python 3 (ipykernel)",
   "language": "python",
   "name": "python3"
  },
  "language_info": {
   "codemirror_mode": {
    "name": "ipython",
    "version": 3
   },
   "file_extension": ".py",
   "mimetype": "text/x-python",
   "name": "python",
   "nbconvert_exporter": "python",
   "pygments_lexer": "ipython3",
   "version": "3.9.6"
  }
 },
 "nbformat": 4,
 "nbformat_minor": 5
}
